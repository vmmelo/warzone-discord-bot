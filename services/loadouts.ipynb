{
 "cells": [
  {
   "cell_type": "code",
   "execution_count": 35,
   "metadata": {
    "collapsed": true,
    "pycharm": {
     "name": "#%%\n"
    }
   },
   "outputs": [],
   "source": [
    "from selenium import webdriver\n",
    "from selenium.webdriver.chrome.service import Service\n",
    "from selenium.webdriver.support.ui import WebDriverWait\n",
    "from selenium.webdriver.support import expected_conditions as EC\n",
    "from selenium.webdriver.common.by import By\n",
    "from time import sleep\n",
    "\n",
    "url = \"https://warzoneloadout.games/\"\n",
    "op = webdriver.ChromeOptions()\n",
    "op.add_argument('headless')\n",
    "driver = webdriver.Chrome(options=op)\n",
    "driver.set_window_position(0, 0)\n",
    "driver.set_window_size(1920, 1080)\n",
    "driver.get(url)\n",
    "wait = WebDriverWait(driver, 60)\n",
    "sleep(5)\n",
    "\n",
    "headers = []\n",
    "headersEl = driver.find_elements(By.XPATH, '/html/body/div[1]/div/div/div/div/div/div/div[4]/div/div[2]/div/div[1]/div/div/div/table/thead/tr/th')\n",
    "for h in headersEl:\n",
    "    headers.append(h.text)\n",
    "\n",
    "loadouts=[]\n",
    "tbody = driver.find_element(By.XPATH, '/html/body/div[1]/div/div/div/div/div/div/div[4]/div/div[2]/div/div[1]/div/div/div/table/tbody')\n",
    "rows = tbody.find_elements(By.TAG_NAME, 'tr')"
   ]
  },
  {
   "cell_type": "code",
   "execution_count": 36,
   "outputs": [
    {
     "name": "stdout",
     "output_type": "stream",
     "text": [
      "Swiss K31 Sniper Absolute Meta Cold War GRU Suppressor 24.9' Combat Recon SWAT 5mw Laser Fast Mag Airborne Elastic Wrap All builds\n"
     ]
    },
    {
     "data": {
      "text/plain": "[{'Gun': 'Vargo 52',\n  'Type': 'Long Range',\n  'Tier': 'Absolute Meta',\n  'Game': 'Cold War',\n  'Muzzle': 'GRU Suppressor',\n  'Barrel': \"18.6' Task Force\",\n  'Optic': 'Axial Arms 3x',\n  'Underbarrel': 'Spetsnaz Grip',\n  'Magazine': '45 Rnd',\n  'Link': 'All builds'},\n {'Gun': 'Bren',\n  'Type': 'Long Range',\n  'Tier': 'Absolute Meta',\n  'Game': 'Vanguard',\n  'Muzzle': 'MX Silencer',\n  'Barrel': \"Queen's 775m Scepter\",\n  'Optic': 'SVT-40 PU Scope 3-6X',\n  'Stock': 'Hockenson SP2B',\n  'Underbarrel': 'M1941 Hand Stop',\n  'Magazine': '.303 British 100 Round Drums',\n  'RearGrip': 'Polymer Grip',\n  'Proficiency': 'Tight Grip',\n  'AmmoType': 'Lengthened',\n  'Kit': 'Fully Loaded',\n  'Link': 'All builds'},\n {'Gun': 'Owen Gun',\n  'Type': 'Close Range',\n  'Tier': 'Absolute Meta',\n  'Game': 'Vanguard',\n  'Muzzle': 'Recoil Booster',\n  'Barrel': 'Gawain 188mm Shrouded',\n  'Optic': 'Slate Reflector',\n  'Stock': 'Removed Stock',\n  'Underbarrel': 'Mark VI Skeletal',\n  'Magazine': '7.2 Gorenko 72 Round Drums',\n  'RearGrip': 'Fabric Grip',\n  'Proficiency': 'Acrobatic',\n  'AmmoType': 'Lenghtened',\n  'Kit': 'Quick',\n  'Link': 'All builds'},\n {'Gun': 'Vargo 52',\n  'Type': 'Sniper Support',\n  'Tier': 'Absolute Meta',\n  'Game': 'Cold War',\n  'Muzzle': 'GRU Suppressor',\n  'Barrel': \"19.8' Liberator\",\n  'Optic': 'Microflex LED',\n  'Magazine': '45 Rnd',\n  'RearGrip': 'Serpent Wrap',\n  'Link': 'All builds'},\n {'Gun': 'Swiss K31',\n  'Type': 'Sniper',\n  'Tier': 'Absolute Meta',\n  'Game': 'Cold War',\n  'Muzzle': 'GRU Suppressor',\n  'Barrel': \"24.9' Combat Recon\",\n  'Laser': 'SWAT 5mw Laser',\n  'Magazine': 'Fast Mag',\n  'RearGrip': 'Airborne Elastic Wrap',\n  'Link': 'All builds'},\n {'Gun': 'XM4',\n  'Type': 'Long Range',\n  'Tier': 'Meta',\n  'Game': 'Cold War',\n  'Muzzle': 'Agency Suppressor',\n  'Barrel': \"13.5' Task Force\",\n  'Optic': 'Axial Arms x3',\n  'Underbarrel': 'Field Agent Grip',\n  'Magazine': '45 Rnd',\n  'Link': 'All builds'},\n {'Gun': 'Type 100',\n  'Type': 'Close Range',\n  'Tier': 'Meta',\n  'Game': 'Vanguard',\n  'Muzzle': 'Recoil Booster',\n  'Barrel': 'Warubachi 134MM Rapid',\n  'Optic': 'Sakura Short Irons',\n  'Stock': 'Warubachi Grip Folding',\n  'Underbarrel': 'm1941 Hand Stop',\n  'Magazine': '8MM Kurz 48 Round Drums',\n  'RearGrip': 'Stippled Grip',\n  'Proficiency': 'Acrobatic',\n  'AmmoType': 'Lenghtened',\n  'Kit': 'Quick',\n  'Link': 'All builds'},\n {'Gun': 'MP-40',\n  'Type': 'Close Range',\n  'Tier': 'Meta',\n  'Game': 'Vanguard',\n  'Muzzle': 'Recoil Booster',\n  'Barrel': 'VDD 189mm Short',\n  'Optic': 'Kraunsick IS01M',\n  'Stock': 'Kraunsick 33M Folding',\n  'Underbarrel': 'M1941 Hand Stop',\n  'Magazine': '7.62 Gorenko 45 Round Mags',\n  'RearGrip': 'Stippled Grip',\n  'Proficiency': 'Perfectionist',\n  'AmmoType': 'Lenghtened',\n  'Kit': 'Quick',\n  'Link': 'All builds'},\n {'Gun': 'AS44',\n  'Type': 'Close Range',\n  'Tier': 'Meta',\n  'Game': 'Vanguard',\n  'Muzzle': 'Mercury Silencer',\n  'Barrel': 'Kovalevskaya 615mm',\n  'Optic': 'Slate Reflector',\n  'Stock': 'ZAC Skeletal',\n  'Underbarrel': 'Mark VI Skeletal',\n  'Magazine': '.30 Russian Short 60 Rounds',\n  'RearGrip': 'Polymer Grip',\n  'Proficiency': 'Momentum',\n  'AmmoType': 'Lenghtened',\n  'Kit': 'On-Hand',\n  'Link': 'All builds'},\n {'Gun': 'CR-56 Amax',\n  'Type': 'Long Range',\n  'Tier': 'Meta',\n  'Game': 'Modern Warfare',\n  'Muzzle': 'Monolithic Suppressor',\n  'Barrel': 'XRK Zodiak S440',\n  'Optic': 'VLK 3.0x',\n  'Underbarrel': 'Commando Foregrip',\n  'Magazine': '45 Round Mags',\n  'Link': 'All builds'},\n {'Gun': 'Fara 83',\n  'Type': 'Long Range',\n  'Tier': 'Meta',\n  'Game': 'Cold War',\n  'Muzzle': 'GRU Suppressor',\n  'Barrel': \"18.7' Spetsnaz RPK Barrel\",\n  'Optic': 'Axial arms x3',\n  'Magazine': '45 Rnd',\n  'RearGrip': 'Spetsnaz Grip',\n  'Link': 'All builds'},\n {'Gun': 'Kar98k',\n  'Type': 'Aim down sight (ADS)',\n  'Tier': 'Meta',\n  'Game': 'Modern Warfare',\n  'Muzzle': 'Monolithic Suppressor',\n  'Barrel': \"Singuard Custom 27.6'\",\n  'Laser': 'Tac Laser',\n  'Optic': 'Sniper',\n  'Stock': 'Sport Comb FTAC',\n  'Link': 'All builds'},\n {'Gun': 'SP-R 208',\n  'Type': 'Sniper',\n  'Tier': 'Meta',\n  'Game': 'Modern Warfare',\n  'Muzzle': 'Monolithic Suppressor',\n  'Barrel': \"SP-R 26'\",\n  'Laser': 'Tac Laser',\n  'Optic': 'Solozero 28mm',\n  'Magazine': 'Norma Mag',\n  'Link': 'All builds'},\n {'Gun': 'PPSH41',\n  'Type': 'Hip Fire',\n  'Tier': 'Meta',\n  'Game': 'Vanguard',\n  'Muzzle': 'Oil Can Silencer',\n  'Barrel': 'Kovaleskaya 230mm B03P',\n  'Optic': 'ZFA 3.5x Rifle Scope',\n  'Stock': 'Removed Stock',\n  'Underbarrel': 'Carver Foregrip',\n  'Magazine': '8mm Nambu 71 Round Mags',\n  'RearGrip': 'Pine Tar Grip',\n  'Proficiency': 'Fleet',\n  'AmmoType': 'Lenghtened',\n  'Kit': 'Quick',\n  'Link': 'All builds'},\n {'Gun': 'Ak47',\n  'Type': 'Long Range',\n  'Tier': 'Meta',\n  'Game': 'Cold War',\n  'Muzzle': 'GRU Suppressor',\n  'Barrel': \"20' Spetsnaz RPK Barrel\",\n  'Optic': 'Axial Arms x3.0',\n  'Underbarrel': 'Spetsnaz Grip',\n  'Magazine': '45 Rnd',\n  'Link': 'All builds'},\n {'Gun': 'Lapa',\n  'Type': 'Close Range',\n  'Tier': 'Meta',\n  'Game': 'Cold War',\n  'Muzzle': 'Agency Suppressor',\n  'Barrel': \"7.9' Rifled\",\n  'Optic': 'Microflex LED',\n  'Stock': 'Raider Stock',\n  'Magazine': 'STANAG 50 Rnd',\n  'Link': 'All builds'},\n {'Gun': 'Automaton',\n  'Type': 'Long Range',\n  'Tier': 'Meta',\n  'Game': 'Vanguard',\n  'Muzzle': 'MX Silencer',\n  'Barrel': 'ZAC 600mm BFA',\n  'Optic': 'M38/Slate 2.5x Custom',\n  'Stock': 'Anastasia Padded',\n  'Underbarrel': 'M1941 Hand Stop',\n  'Magazine': 'Sakura 75 Round Drum',\n  'RearGrip': 'Polymer Grip',\n  'Proficiency': 'Tight Grip',\n  'AmmoType': 'Lengthened',\n  'Kit': 'Fully Loaded',\n  'Link': 'All builds'},\n {'Gun': 'EM2',\n  'Type': 'Long Range',\n  'Tier': 'Meta',\n  'Game': 'Cold War',\n  'Muzzle': 'Agency Suppressor',\n  'Barrel': \"25.8' Task Force\",\n  'Optic': 'Axial Arms 3x',\n  'Underbarrel': 'Field Agent grip',\n  'Magazine': '40 Rnd',\n  'Link': 'All builds'},\n {'Gun': 'Armaguerra 43',\n  'Type': 'Close Range',\n  'Tier': 'Meta',\n  'Game': 'Vanguard',\n  'Muzzle': 'Recoil Booster',\n  'Barrel': 'Perfetto Custom',\n  'Optic': 'Slate Reflector',\n  'Stock': 'Imerito SA Folding',\n  'Underbarrel': 'Mark VI Skeletal',\n  'Magazine': '9mm 60 Round Mags',\n  'RearGrip': 'Fabric Grip',\n  'Proficiency': 'Hardscope',\n  'AmmoType': 'Lenghtened',\n  'Kit': 'Quick',\n  'Link': 'All builds'},\n {'Gun': 'MG82',\n  'Type': 'Long Range',\n  'Tier': 'Meta',\n  'Game': 'Cold War',\n  'Muzzle': 'Agency Suppressor',\n  'Barrel': \"16.4' Task Force\",\n  'Optic': 'Axial Arms 3x',\n  'Underbarrel': 'Field Agent Grip',\n  'RearGrip': 'Serpent Wrap',\n  'Link': 'All builds'},\n {'Gun': 'Sten',\n  'Type': 'Close Range',\n  'Tier': 'Meta',\n  'Game': 'Vanguard',\n  'Muzzle': 'Recoil Booster',\n  'Barrel': 'SA 65MM Rapid',\n  'Optic': 'SA 32S',\n  'Stock': 'Gawain Para',\n  'Underbarrel': 'Mark VI Skeletal',\n  'Magazine': '9mm 50 Round Drums',\n  'RearGrip': 'Grooved Grip',\n  'Proficiency': 'Acrobatic',\n  'AmmoType': 'Lenghtened',\n  'Kit': 'Quick',\n  'Link': 'All builds'},\n {'Gun': 'Owen Gun',\n  'Type': 'Sniper Support',\n  'Tier': 'Meta',\n  'Game': 'Vanguard',\n  'Muzzle': 'Recoil Booster',\n  'Barrel': 'Hockenson 305mm Precision',\n  'Optic': 'M38/Slate 2.5x Custom',\n  'Stock': 'Orbweaver Padded',\n  'Underbarrel': 'M1941 Hand Stop',\n  'Magazine': '7.2 Gorenko 72 Round Drums',\n  'RearGrip': 'Polymer Grip',\n  'Proficiency': 'Acrobatic',\n  'AmmoType': 'Lenghtened',\n  'Kit': 'On-Hand',\n  'Link': 'All builds'},\n {'Gun': 'Cooper Carbine',\n  'Type': 'Sniper Support',\n  'Tier': 'Meta',\n  'Game': 'Vanguard',\n  'Muzzle': 'Mercury Silencer',\n  'Barrel': \"14' Gracey Rapid\",\n  'Optic': 'Slate Reflector',\n  'Stock': 'Ragdoll C45 Skeletal',\n  'Underbarrel': 'M1941 Hand Stop',\n  'Magazine': '9mm 60 Round Drums',\n  'RearGrip': 'Stippled Grip',\n  'Proficiency': 'Tight Grip',\n  'AmmoType': 'Compressed Rounds',\n  'Kit': 'On-Hand',\n  'Link': 'All builds'},\n {'Gun': 'Grau 5.56',\n  'Type': 'Long Range',\n  'Tier': 'Meta',\n  'Game': 'Modern Warfare',\n  'Muzzle': 'Monolithic Suppressor',\n  'Barrel': 'Tempus 26.5 Archangel',\n  'Optic': 'VLK 3.0x',\n  'Underbarrel': 'Commando Foregrip',\n  'Magazine': '60 Mag',\n  'Link': 'All builds'},\n {'Gun': 'AK47',\n  'Type': 'Sniper Support',\n  'Tier': 'Meta',\n  'Game': 'Cold War',\n  'Muzzle': 'GRU Suppressor',\n  'Barrel': \"18.2' Takedown\",\n  'Laser': 'Tiger Team Spotlight',\n  'Stock': 'KGB Skeletal Stock',\n  'Magazine': '45 Rnd',\n  'Link': 'All builds'},\n {'Gun': 'C58',\n  'Type': 'Long Range',\n  'Tier': 'Meta',\n  'Game': 'Cold War',\n  'Muzzle': 'Agency Suppressor',\n  'Barrel': \"18.4' Task Force\",\n  'Optic': 'Axial Arms x3',\n  'Underbarrel': 'Field Agent Grip',\n  'Magazine': '45 Rnd Drum',\n  'Link': 'All builds'},\n {'Gun': 'Lapa',\n  'Type': 'Sniper Support',\n  'Tier': 'Meta',\n  'Game': 'Cold War',\n  'Muzzle': 'Agency Suppressor',\n  'Barrel': \"7.9' Rifled\",\n  'Optic': 'Microflex LED',\n  'Stock': 'Raider Stock',\n  'Magazine': 'STANAG 50 Rnd',\n  'Link': 'All builds'},\n {'Gun': 'Cooper Carbine',\n  'Type': 'Close Range',\n  'Tier': 'Meta',\n  'Game': 'Vanguard',\n  'Muzzle': 'Recoil Booster',\n  'Barrel': \"14' Gracey Rapid\",\n  'Optic': 'Slate Reflector',\n  'Stock': 'Removed Stock',\n  'Underbarrel': 'M3 Ready Grip',\n  'Magazine': '9mm 60 Round Drums',\n  'RearGrip': 'Fabric grip',\n  'Proficiency': 'Vital',\n  'AmmoType': 'Compressed Rounds',\n  'Kit': 'On-Hand',\n  'Link': 'All builds'},\n {'Gun': 'AS44',\n  'Type': 'Hip Fire',\n  'Tier': 'Meta',\n  'Game': 'Vanguard',\n  'Muzzle': 'Recoil Booster',\n  'Barrel': 'Empress 400mm',\n  'Optic': 'Slate Reflector',\n  'Stock': 'Removed Stock',\n  'Underbarrel': 'Carver Foregrip',\n  'Magazine': '.30 Russian Short 60 Rounds',\n  'RearGrip': 'Pine Tar Grip',\n  'Proficiency': 'Gung-Ho',\n  'AmmoType': 'Lenghtened',\n  'Kit': 'On-Hand',\n  'Link': 'All builds'},\n {'Gun': 'Armaguerra 43',\n  'Type': 'Sniper Support',\n  'Tier': 'Meta',\n  'Game': 'Vanguard',\n  'Muzzle': 'Recoil Booster',\n  'Barrel': 'Botti 570mm Precisione',\n  'Optic': 'Slate Reflector',\n  'Stock': 'Imerito SA Folding',\n  'Underbarrel': 'M1941 Hand Stop',\n  'Magazine': '9mm 60 Round Mags',\n  'RearGrip': 'Polymer Grip',\n  'Proficiency': 'Hardscope',\n  'AmmoType': 'Lenghtened',\n  'Kit': 'Quick',\n  'Link': 'All builds'},\n {'Gun': 'MP5',\n  'Type': 'Close Range',\n  'Tier': 'Meta',\n  'Game': 'Cold War',\n  'Muzzle': 'Agency Suppressor',\n  'Laser': 'Tiger Team Spotlight',\n  'Stock': 'Raider Stock',\n  'Underbarrel': 'Bruiser Grip',\n  'Magazine': 'STANAG 50 Rnd Drum',\n  'Link': 'All builds'},\n {'Gun': 'OTS-9',\n  'Type': 'Close Range',\n  'Tier': 'Meta',\n  'Game': 'Cold War',\n  'Muzzle': 'GRU Suppressor',\n  'Barrel': \"8.1' Task Force\",\n  'Stock': 'KGB Skeletal Stock',\n  'Magazine': 'VDV 40 Rnd Fast Mag',\n  'RearGrip': 'Serprent Wrap',\n  'Link': 'All builds'},\n {'Gun': 'Welgun',\n  'Type': 'Close Range',\n  'Tier': 'Meta',\n  'Game': 'Vanguard',\n  'Muzzle': 'Recoil Booster',\n  'Barrel': '320mm SA Shrouded',\n  'Optic': 'Slate Reflector',\n  'Stock': 'Removed Stock',\n  'Underbarrel': 'mark VI Skeletal',\n  'Magazine': '7.62 Gorenko 40 Round Mags',\n  'RearGrip': 'Fabric grip',\n  'Proficiency': 'Acrobatic',\n  'AmmoType': 'Lenghtened',\n  'Kit': 'Quick',\n  'Link': 'All builds'}]"
     },
     "execution_count": 36,
     "metadata": {},
     "output_type": "execute_result"
    }
   ],
   "source": [
    "print(rows[4].text)\n",
    "\n",
    "for row in range(len(rows)):\n",
    "    weaponDict = {}\n",
    "    for col, header in enumerate(headers):\n",
    "        col_text = driver.find_element(By.XPATH, f'/html/body/div[1]/div/div/div/div/div/div/div[4]/div/div[2]/div/div[1]/div/div/div/table/tbody/tr[{row+1}]/td[{col+1}]').text\n",
    "        if col_text != '':\n",
    "            weaponDict[header] = col_text\n",
    "    loadouts.append(weaponDict)\n",
    "\n",
    "loadouts"
   ],
   "metadata": {
    "collapsed": false,
    "pycharm": {
     "name": "#%%\n"
    }
   }
  },
  {
   "cell_type": "code",
   "execution_count": 31,
   "outputs": [
    {
     "data": {
      "text/plain": "str"
     },
     "execution_count": 31,
     "metadata": {},
     "output_type": "execute_result"
    }
   ],
   "source": [
    "type(loadouts[0]['Laser'])"
   ],
   "metadata": {
    "collapsed": false,
    "pycharm": {
     "name": "#%%\n"
    }
   }
  }
 ],
 "metadata": {
  "kernelspec": {
   "display_name": "Python 3",
   "language": "python",
   "name": "python3"
  },
  "language_info": {
   "codemirror_mode": {
    "name": "ipython",
    "version": 2
   },
   "file_extension": ".py",
   "mimetype": "text/x-python",
   "name": "python",
   "nbconvert_exporter": "python",
   "pygments_lexer": "ipython2",
   "version": "2.7.6"
  }
 },
 "nbformat": 4,
 "nbformat_minor": 0
}