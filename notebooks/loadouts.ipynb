{
 "cells": [
  {
   "cell_type": "code",
   "execution_count": 1,
   "metadata": {
    "collapsed": true,
    "pycharm": {
     "name": "#%%\n"
    }
   },
   "outputs": [],
   "source": [
    "from selenium import webdriver\n",
    "from selenium.webdriver.chrome.service import Service\n",
    "from selenium.webdriver.support.ui import WebDriverWait\n",
    "from selenium.webdriver.support import expected_conditions as EC\n",
    "from selenium.webdriver.common.by import By\n",
    "from time import sleep\n",
    "\n",
    "url = \"https://warzoneloadout.games/\"\n",
    "op = webdriver.ChromeOptions()\n",
    "op.add_argument('headless')\n",
    "driver = webdriver.Chrome(options=op)\n",
    "driver.set_window_position(0, 0)\n",
    "driver.set_window_size(1920, 1080)\n",
    "driver.get(url)\n",
    "wait = WebDriverWait(driver, 60)\n",
    "sleep(5)\n",
    "\n",
    "headers = []\n",
    "headersEl = driver.find_elements(By.XPATH, '/html/body/div[1]/div/div/div/div/div/div/div[4]/div/div[2]/div/div[1]/div/div/div/table/thead/tr/th')\n",
    "for h in headersEl:\n",
    "    headers.append(h.text)\n",
    "\n",
    "loadouts=[]\n",
    "tbody = driver.find_element(By.XPATH, '/html/body/div[1]/div/div/div/div/div/div/div[4]/div/div[2]/div/div[1]/div/div/div/table/tbody')\n",
    "rows = tbody.find_elements(By.TAG_NAME, 'tr')"
   ]
  },
  {
   "cell_type": "code",
   "execution_count": 2,
   "outputs": [
    {
     "name": "stdout",
     "output_type": "stream",
     "text": [
      "Swiss K31 Sniper Absolute Meta Vanguard GRU Suppressor 24.9' Combat Recon Fast Mag Airborne Elastic Wrap SWAT 5mw Laser All builds\n"
     ]
    }
   ],
   "source": [
    "for row in range(len(rows)):\n",
    "    weaponDict = {}\n",
    "    for col, header in enumerate(headers):\n",
    "        col_text = driver.find_element(By.XPATH, f'/html/body/div[1]/div/div/div/div/div/div/div[4]/div/div[2]/div/div[1]/div/div/div/table/tbody/tr[{row+1}]/td[{col+1}]').text\n",
    "        if col_text != '':\n",
    "            weaponDict[header] = col_text\n",
    "    loadouts.append(weaponDict)"
   ],
   "metadata": {
    "collapsed": false,
    "pycharm": {
     "name": "#%%\n"
    }
   }
  },
  {
   "cell_type": "code",
   "execution_count": 13,
   "outputs": [
    {
     "name": "stdout",
     "output_type": "stream",
     "text": [
      "testea\n"
     ]
    }
   ],
   "source": [
    "d = {'teste': 'testando'}\n",
    "if 'testea' in d:\n",
    "    print(d['testea'])\n",
    "else:\n",
    "    print('testea')"
   ],
   "metadata": {
    "collapsed": false,
    "pycharm": {
     "name": "#%%\n"
    }
   }
  }
 ],
 "metadata": {
  "kernelspec": {
   "display_name": "Python 3",
   "language": "python",
   "name": "python3"
  },
  "language_info": {
   "codemirror_mode": {
    "name": "ipython",
    "version": 2
   },
   "file_extension": ".py",
   "mimetype": "text/x-python",
   "name": "python",
   "nbconvert_exporter": "python",
   "pygments_lexer": "ipython2",
   "version": "2.7.6"
  }
 },
 "nbformat": 4,
 "nbformat_minor": 0
}