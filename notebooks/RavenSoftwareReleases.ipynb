{
 "cells": [
  {
   "cell_type": "code",
   "execution_count": 130,
   "metadata": {
    "collapsed": true,
    "pycharm": {
     "name": "#%%\n"
    }
   },
   "outputs": [],
   "source": [
    "import requests\n",
    "from bs4 import BeautifulSoup\n",
    "community_page = requests.get('https://www.ravensoftware.com/community/')\n",
    "community_soup = BeautifulSoup(community_page.text, 'html.parser')"
   ]
  },
  {
   "cell_type": "code",
   "execution_count": 131,
   "outputs": [],
   "source": [
    "pfc = community_soup.find_all(class_='post-feature-container')\n",
    "pc = community_soup.find_all(class_='post-container')\n",
    "posts = pfc + pc"
   ],
   "metadata": {
    "collapsed": false,
    "pycharm": {
     "name": "#%%\n"
    }
   }
  },
  {
   "cell_type": "code",
   "execution_count": 132,
   "outputs": [],
   "source": [
    "from datetime import datetime\n",
    "import textwrap\n",
    "import re\n",
    "RAVEN_URI='https://www.ravensoftware.com'\n",
    "DISCORD_CHARACTERS_LIMIT = 2000\n",
    "\n",
    "def get_post_updated_date(date_div):\n",
    "    if date_div is not None:\n",
    "        date_text = date_div.text.strip()\n",
    "        if date_text == '':\n",
    "            return None\n",
    "        return datetime.strptime(date_text, '%b %d, %Y')\n",
    "    return None\n",
    "\n",
    "def format_content_url(text=''):\n",
    "    if text.startswith('/community') or text.startswith('/content'):\n",
    "        return RAVEN_URI + text\n",
    "    return text\n",
    "\n",
    "def get_post_content(content_url=''):\n",
    "    if not content_url:\n",
    "        return ''\n",
    "    content_page = requests.get(content_url)\n",
    "    content_soup = BeautifulSoup(content_page.text, 'html.parser')\n",
    "    return content_soup\n",
    "\n",
    "def read_blog_article(content):\n",
    "    #TODO write function logic\n",
    "    return\n",
    "\n",
    "def get_releases_sections(content):\n",
    "    releases_sections = content.find_all('h2')\n",
    "    releases_sections = list(map(lambda x: x.get_text(), releases_sections))\n",
    "    return releases_sections\n",
    "\n",
    "def div_contains_section(div, sections):\n",
    "    for section in sections:\n",
    "        if section in div.get_text():\n",
    "            return section\n",
    "    return False\n",
    "\n",
    "def split_text_limit_characters(text, limit=DISCORD_CHARACTERS_LIMIT):\n",
    "    text = re.sub(r'\\n\\n+', '\\n', text).strip()\n",
    "    return textwrap.wrap(text,\n",
    "                        width=limit,\n",
    "                        break_long_words=False,\n",
    "                        replace_whitespace=False\n",
    "                        )\n",
    "\n",
    "def read_patch_notes(content):\n",
    "    notes_object = {}\n",
    "    releases_sections = get_releases_sections(content)\n",
    "    main_div = content.find('div', class_='aem-Grid aem-Grid--12 aem-Grid--default--12')\n",
    "    actual_section = None\n",
    "    for div in main_div.select('div[class*=\"aem-GridColumn aem-GridColumn--default--12\"]'):\n",
    "        is_section = div_contains_section(div, releases_sections)\n",
    "        if not is_section and not actual_section:\n",
    "            continue\n",
    "        if is_section:\n",
    "            actual_section = is_section\n",
    "            notes_object[actual_section] = {'text': '', 'images': []}\n",
    "        notes_object[actual_section]['text'] = notes_object[actual_section]['text'] + div.get_text()\n",
    "\n",
    "        img_tags = div.find_all('img')\n",
    "        for img in img_tags:\n",
    "            if 'src' not in img.attrs:\n",
    "                continue\n",
    "            src = img.attrs['src']\n",
    "            if 'horizontal-long-line.png' in src:\n",
    "                continue\n",
    "            notes_object[actual_section]['images'].append(format_content_url(src))\n",
    "    return notes_object\n",
    "\n",
    "for post in posts:\n",
    "    updated_date = get_post_updated_date(post.find(class_='post-feature-date') or post.find(class_='post-date'))\n",
    "    if updated_date is None:\n",
    "        continue\n",
    "    if updated_date > datetime.fromisoformat('2022-04-05'):\n",
    "        content = get_post_content(format_content_url(post.find('a').attrs['href']))\n",
    "        if not content:\n",
    "            continue\n",
    "        if content.find(class_='blog-body'):\n",
    "            patch_object = read_patch_notes(content.find(class_='blog-body'))\n",
    "\n",
    "        if content.find(class_='blog-body-container'):\n",
    "            read_blog_article(content.find(class_='body-content'))\n"
   ],
   "metadata": {
    "collapsed": false,
    "pycharm": {
     "name": "#%%\n"
    }
   }
  },
  {
   "cell_type": "code",
   "execution_count": 133,
   "outputs": [
    {
     "ename": "KeyError",
     "evalue": "'SEASON THREE LAUNCH'",
     "output_type": "error",
     "traceback": [
      "\u001B[0;31m---------------------------------------------------------------------------\u001B[0m",
      "\u001B[0;31mKeyError\u001B[0m                                  Traceback (most recent call last)",
      "Input \u001B[0;32mIn [133]\u001B[0m, in \u001B[0;36m<cell line: 10>\u001B[0;34m()\u001B[0m\n\u001B[1;32m      8\u001B[0m \u001B[38;5;28;01mimport\u001B[39;00m \u001B[38;5;21;01mtextwrap\u001B[39;00m\n\u001B[1;32m      9\u001B[0m \u001B[38;5;28;01mimport\u001B[39;00m \u001B[38;5;21;01mre\u001B[39;00m\n\u001B[0;32m---> 10\u001B[0m text \u001B[38;5;241m=\u001B[39m\u001B[43mpatch_object\u001B[49m\u001B[43m[\u001B[49m\u001B[38;5;124;43m'\u001B[39;49m\u001B[38;5;124;43mSEASON THREE LAUNCH\u001B[39;49m\u001B[38;5;124;43m'\u001B[39;49m\u001B[43m]\u001B[49m[\u001B[38;5;124m'\u001B[39m\u001B[38;5;124mtext\u001B[39m\u001B[38;5;124m'\u001B[39m]\n\u001B[1;32m     11\u001B[0m text \u001B[38;5;241m=\u001B[39m re\u001B[38;5;241m.\u001B[39msub(\u001B[38;5;124mr\u001B[39m\u001B[38;5;124m'\u001B[39m\u001B[38;5;124m\\\u001B[39m\u001B[38;5;124mn\u001B[39m\u001B[38;5;124m\\\u001B[39m\u001B[38;5;124mn+\u001B[39m\u001B[38;5;124m'\u001B[39m, \u001B[38;5;124m'\u001B[39m\u001B[38;5;130;01m\\n\u001B[39;00m\u001B[38;5;124m'\u001B[39m, text)\u001B[38;5;241m.\u001B[39mstrip()\n\u001B[1;32m     12\u001B[0m wrapped \u001B[38;5;241m=\u001B[39m textwrap\u001B[38;5;241m.\u001B[39mwrap(text,\n\u001B[1;32m     13\u001B[0m                         width\u001B[38;5;241m=\u001B[39m\u001B[38;5;241m2000\u001B[39m,\n\u001B[1;32m     14\u001B[0m                         break_long_words\u001B[38;5;241m=\u001B[39m\u001B[38;5;28;01mFalse\u001B[39;00m,\n\u001B[1;32m     15\u001B[0m                         replace_whitespace\u001B[38;5;241m=\u001B[39m\u001B[38;5;28;01mFalse\u001B[39;00m\n\u001B[1;32m     16\u001B[0m                         )\n",
      "\u001B[0;31mKeyError\u001B[0m: 'SEASON THREE LAUNCH'"
     ]
    }
   ],
   "source": [
    "from IPython.display import display, Image\n",
    "from IPython.core.display import HTML\n",
    "# for img in patch_object['SEASON THREE LAUNCH']['images']:\n",
    "#     display(Image(url=img, width=500, height=500))\n",
    "# with open('result.txt', 'a') as fp:\n",
    "#     fp.write(patch_object['SEASON THREE LAUNCH']['text'])\n",
    "\n",
    "import textwrap\n",
    "import re\n",
    "text =patch_object['SEASON THREE LAUNCH']['text']\n",
    "text = re.sub(r'\\n\\n+', '\\n', text).strip()\n",
    "wrapped = textwrap.wrap(text,\n",
    "                        width=2000,\n",
    "                        break_long_words=False,\n",
    "                        replace_whitespace=False\n",
    "                        )\n",
    "for part in wrapped:\n",
    "    print(part)\n",
    "    with open('result.txt', 'a') as fp:\n",
    "        fp.write(part)\n",
    "    print('\\n\\n\\n\\n----------')\n"
   ],
   "metadata": {
    "collapsed": false,
    "pycharm": {
     "name": "#%%\n"
    }
   }
  },
  {
   "cell_type": "code",
   "execution_count": 135,
   "outputs": [],
   "source": [],
   "metadata": {
    "collapsed": false,
    "pycharm": {
     "name": "#%%\n"
    }
   }
  }
 ],
 "metadata": {
  "kernelspec": {
   "display_name": "Python 3",
   "language": "python",
   "name": "python3"
  },
  "language_info": {
   "codemirror_mode": {
    "name": "ipython",
    "version": 2
   },
   "file_extension": ".py",
   "mimetype": "text/x-python",
   "name": "python",
   "nbconvert_exporter": "python",
   "pygments_lexer": "ipython2",
   "version": "2.7.6"
  }
 },
 "nbformat": 4,
 "nbformat_minor": 0
}